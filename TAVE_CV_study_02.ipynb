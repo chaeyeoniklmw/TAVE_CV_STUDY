{
  "cells": [
    {
      "cell_type": "markdown",
      "metadata": {
        "id": "Xn9IpVozuYrJ"
      },
      "source": [
        "# 4장. 이미지 분류"
      ]
    },
    {
      "cell_type": "markdown",
      "metadata": {
        "id": "lw9fc5dyugyQ"
      },
      "source": [
        "텐서플로를 활용한 구글넷 구현"
      ]
    },
    {
      "cell_type": "code",
      "execution_count": null,
      "metadata": {
        "id": "Lm4uFLxbuYjZ"
      },
      "outputs": [],
      "source": [
        "import tensorflow as tf\n",
        "from tensorflow.keras import Model, regularizers\n",
        "from tensorflow.keras.layers import Flatten, Dense, Dropout, Conv2D, MaxPool2D, BatchNormalization, Activation, Input, AveragePooling2D, concatenate\n",
        "from tensorflow.keras.callbacks import ReduceLROnPlateau\n",
        "import matplotlib.pyplot as plt"
      ]
    },
    {
      "cell_type": "code",
      "execution_count": null,
      "metadata": {
        "colab": {
          "base_uri": "https://localhost:8080/",
          "height": 229
        },
        "id": "8sBK5jqMuiXE",
        "outputId": "7c18b3c0-5609-4c54-9794-e09235966b92"
      },
      "outputs": [
        {
          "name": "stdout",
          "output_type": "stream",
          "text": [
            "Downloading data from https://www.cs.toronto.edu/~kriz/cifar-10-python.tar.gz\n",
            "\u001b[1m170498071/170498071\u001b[0m \u001b[32m━━━━━━━━━━━━━━━━━━━━\u001b[0m\u001b[37m\u001b[0m \u001b[1m11s\u001b[0m 0us/step\n"
          ]
        },
        {
          "data": {
            "image/png": "[encoded data removed]",
            "text/plain": [
              "<Figure size 1000x200 with 5 Axes>"
            ]
          },
          "metadata": {},
          "output_type": "display_data"
        }
      ],
      "source": [
        "(train_x, train_y), (test_x, test_y) = tf.keras.datasets.cifar10.load_data()\n",
        "num_classes = 10\n",
        "\n",
        "plt.figure(figsize=(10, 2))\n",
        "for i in range(5):\n",
        "    plt.subplot(1, 5, i + 1)\n",
        "    plt.imshow(train_x[i])\n",
        "    plt.title(f\"Label: {train_y[i][0]}\")\n",
        "    plt.axis('off')\n",
        "plt.show()"
      ]
    },
    {
      "cell_type": "code",
      "execution_count": null,
      "metadata": {
        "colab": {
          "base_uri": "https://localhost:8080/"
        },
        "id": "LTvceJBmuYg3",
        "outputId": "c6cab201-1213-4413-fa14-9921ca36a8b3"
      },
      "outputs": [
        {
          "name": "stdout",
          "output_type": "stream",
          "text": [
            "스케일링 전 픽셀의 최대 값과 최소 값: 0~255\n",
            "스케일링 후 픽셀의 최대 값과 최소 값: 0.0~1.0\n"
          ]
        }
      ],
      "source": [
        "print(f'스케일링 전 픽셀의 최대 값과 최소 값: {train_x.min()}~{train_x.max()}')\n",
        "train_x= train_x/255.\n",
        "test_x = test_x//255.\n",
        "print(f'스케일링 후 픽셀의 최대 값과 최소 값: {train_x.min()}~{train_x.max()}')"
      ]
    },
    {
      "cell_type": "code",
      "execution_count": null,
      "metadata": {
        "id": "kdpvEJImuYeT"
      },
      "outputs": [],
      "source": [
        "image_size = (32, 32)\n",
        "batch_size = 64\n",
        "weight_decay = 5e-4\n",
        "learning_rate = 1e-2\n",
        "epochs = 40"
      ]
    },
    {
      "cell_type": "code",
      "execution_count": null,
      "metadata": {
        "id": "QY6A8Jq0uYbn"
      },
      "outputs": [],
      "source": [
        "def conv2d_bn_relu(x, filters, kernel_size, weight_decay=.0, strides=1):\n",
        "    x = Conv2D(filters=filters,\n",
        "               kernel_size=kernel_size,\n",
        "               strides=strides,\n",
        "               padding='same',\n",
        "               kernel_regularizer=regularizers.l2(weight_decay))(x)\n",
        "    x = BatchNormalization(scale=False, axis=3)(x)\n",
        "    x = Activation('relu')(x)\n",
        "    return x\n"
      ]
    },
    {
      "cell_type": "code",
      "execution_count": null,
      "metadata": {
        "id": "tHeekgsVuYYu"
      },
      "outputs": [],
      "source": [
        "def inception_module(x, filters_num_array, weight_decay=.0):\n",
        "    (br0_filters, br1_filters, br2_filters, br3_filters) = filters_num_array\n",
        "    br0 = conv2d_bn_relu(x, filters=br0_filters, kernel_size=1, weight_decay=weight_decay)\n",
        "    br1 = conv2d_bn_relu(x, filters=br1_filters[0], kernel_size=1, weight_decay=weight_decay)\n",
        "    br1 = conv2d_bn_relu(br1, filters=br1_filters[1], kernel_size=3, weight_decay=weight_decay)\n",
        "    br2 = conv2d_bn_relu(x, filters=br2_filters[0], kernel_size=1, weight_decay=weight_decay)\n",
        "    br2 = conv2d_bn_relu(br2, filters=br2_filters[1], kernel_size=5)\n",
        "    br3 = MaxPool2D(pool_size=3, strides=(1, 1), padding='same')(x)\n",
        "    br3 = conv2d_bn_relu(br3, filters=br3_filters, kernel_size=1, weight_decay=weight_decay)\n",
        "    x = concatenate([br0, br1, br2, br3], axis=3)\n",
        "    return x"
      ]
    },
    {
      "cell_type": "code",
      "execution_count": null,
      "metadata": {
        "id": "Cx-jVtJ1uYWA"
      },
      "outputs": [],
      "source": [
        "def googlenet(input_shape, classes, weight_decay=.0):\n",
        "    input = Input(shape=input_shape)\n",
        "    x = input\n",
        "    x = conv2d_bn_relu(x, filters=64, kernel_size=1, weight_decay=weight_decay)\n",
        "    x = conv2d_bn_relu(x, filters=192, kernel_size=3, weight_decay=weight_decay)\n",
        "    x = MaxPool2D(pool_size=3, strides=2, padding='same')(x)\n",
        "    x = inception_module(x, (64, (96, 128), (16, 32), 32), weight_decay=weight_decay)\n",
        "    x = inception_module(x, (128, (128, 192), (32, 96), 64), weight_decay=weight_decay)\n",
        "    x = MaxPool2D(pool_size=2, strides=2, padding='same')(x)\n",
        "    x = inception_module(x, (192, (96, 208), (16, 48), 64), weight_decay=weight_decay)\n",
        "    x = inception_module(x, (160, (112, 224), (24, 64), 64), weight_decay=weight_decay)\n",
        "    x = inception_module(x, (128, (128, 256), (24, 64), 64), weight_decay=weight_decay)\n",
        "    x = inception_module(x, (112, (144, 288), (32, 64), 64), weight_decay=weight_decay)\n",
        "    x = inception_module(x, (256, (160, 320), (32, 128), 128), weight_decay=weight_decay)\n",
        "    x = MaxPool2D(pool_size=2, strides=2, padding='same')(x)\n",
        "    x = inception_module(x, (256, (160, 320), (32, 128), 128), weight_decay=weight_decay)\n",
        "    x = inception_module(x, (384, (192, 384), (48, 128), 128), weight_decay=weight_decay)\n",
        "    x = AveragePooling2D(pool_size=4, strides=1, padding='valid')(x)\n",
        "    x = Flatten(name='flatten')(x)\n",
        "    output = Dense(classes, activation='softmax')(x)\n",
        "    model = Model(input, output)\n",
        "    return model"
      ]
    },
    {
      "cell_type": "code",
      "execution_count": null,
      "metadata": {
        "id": "O-_Soq-9uYTF"
      },
      "outputs": [],
      "source": [
        "from tensorflow.keras.layers import Input, Conv2D, Dense, Flatten, GlobalAveragePooling2D\n",
        "from tensorflow.keras.layers import BatchNormalization\n",
        "from tensorflow.keras.layers import Activation\n",
        "from tensorflow.keras.layers import concatenate\n",
        "\n",
        "\n",
        "googlenet = googlenet(input_shape=(image_size[0], image_size[1], 3),\n",
        "                      classes=num_classes,\n",
        "                      weight_decay=weight_decay)"
      ]
    },
    {
      "cell_type": "code",
      "execution_count": null,
      "metadata": {
        "id": "o3yRvWetuYQp"
      },
      "outputs": [],
      "source": [
        "optimizer = tf.keras.optimizers.SGD(learning_rate=learning_rate, momentum=0.9)\n",
        "googlenet.compile(optimizer=optimizer,\n",
        "              loss='sparse_categorical_crossentropy',\n",
        "              metrics=[\"accuracy\"])"
      ]
    },
    {
      "cell_type": "code",
      "execution_count": null,
      "metadata": {
        "id": "CMbFQxTKuYNx"
      },
      "outputs": [],
      "source": [
        "reduce_lr = ReduceLROnPlateau(monitor='val_loss', factor=0.5,\n",
        "                              patience=4, min_lr=1e-7, verbose=1)"
      ]
    },
    {
      "cell_type": "code",
      "execution_count": null,
      "metadata": {
        "colab": {
          "background_save": true,
          "base_uri": "https://localhost:8080/"
        },
        "id": "vCis8yRwuYLC",
        "outputId": "0a0b0fb2-0ca3-4d59-bc02-12c6ab2c3a2a"
      },
      "outputs": [
        {
          "name": "stdout",
          "output_type": "stream",
          "text": [
            "Epoch 1/40\n",
            "\u001b[1m625/625\u001b[0m \u001b[32m━━━━━━━━━━━━━━━━━━━━\u001b[0m\u001b[37m\u001b[0m \u001b[1m3507s\u001b[0m 6s/step - accuracy: 0.3980 - loss: 5.4856 - val_accuracy: 0.5037 - val_loss: 4.9403 - learning_rate: 0.0100\n",
            "Epoch 2/40\n",
            "\u001b[1m625/625\u001b[0m \u001b[32m━━━━━━━━━━━━━━━━━━━━\u001b[0m\u001b[37m\u001b[0m \u001b[1m3493s\u001b[0m 6s/step - accuracy: 0.6549 - loss: 4.3957 - val_accuracy: 0.6567 - val_loss: 4.1251 - learning_rate: 0.0100\n",
            "Epoch 3/40\n",
            "\u001b[1m625/625\u001b[0m \u001b[32m━━━━━━━━━━━━━━━━━━━━\u001b[0m\u001b[37m\u001b[0m \u001b[1m3429s\u001b[0m 5s/step - accuracy: 0.7461 - loss: 3.7798 - val_accuracy: 0.6861 - val_loss: 3.7339 - learning_rate: 0.0100\n",
            "Epoch 4/40\n",
            "\u001b[1m415/625\u001b[0m \u001b[32m━━━━━━━━━━━━━\u001b[0m\u001b[37m━━━━━━━\u001b[0m \u001b[1m18:11\u001b[0m 5s/step - accuracy: 0.8036 - loss: 3.3189"
          ]
        }
      ],
      "source": [
        "history = googlenet.fit(x=train_x,\n",
        "                        y=train_y,\n",
        "                        batch_size=batch_size,\n",
        "                        epochs=epochs,\n",
        "                        validation_split=0.2,\n",
        "                        callbacks = [reduce_lr])"
      ]
    },
    {
      "cell_type": "code",
      "execution_count": null,
      "metadata": {
        "id": "gbol_HUZwHq8"
      },
      "outputs": [],
      "source": [
        "plt.figure(figsize=(14, 5))\n",
        "\n",
        "plt.subplot(1, 2, 1)\n",
        "plt.plot(history.history['loss'], label='Training Loss')\n",
        "plt.plot(history.history['val_loss'], label='Validation Loss')\n",
        "plt.title('Training and Validation Loss')\n",
        "plt.xlabel('Epoch')\n",
        "plt.ylabel('Loss')\n",
        "plt.legend()\n",
        "\n",
        "plt.subplot(1, 2, 2)\n",
        "plt.plot(history.history['accuracy'], label='Training Accuracy')\n",
        "plt.plot(history.history['val_accuracy'], label='Validation Accuracy')\n",
        "plt.title('Training and Validation Accuracy')\n",
        "plt.xlabel('Epoch')\n",
        "plt.ylabel('Accuracy')\n",
        "plt.ylim(0, 1)\n",
        "plt.legend()"
      ]
    },
    {
      "cell_type": "markdown",
      "metadata": {
        "id": "UWAxucW7wsZ5"
      },
      "source": [
        "keras applications를 활용한 레즈넷 실습"
      ]
    },
    {
      "cell_type": "code",
      "execution_count": null,
      "metadata": {
        "id": "QBB1bJLZwHto"
      },
      "outputs": [],
      "source": [
        "!gdown 1WI3FPChY3DFnrNEP3Fk_C61bcMxkr4-b\n"
      ]
    },
    {
      "cell_type": "code",
      "execution_count": null,
      "metadata": {
        "id": "3K2xp4nDwHwR"
      },
      "outputs": [],
      "source": [
        "import tensorflow as tf\n",
        "from tensorflow.keras.applications import ResNet50\n",
        "from tensorflow.keras.preprocessing import image\n",
        "from tensorflow.keras.applications.resnet import preprocess_input, decode_predictions\n",
        "\n",
        "# ResNet 모델 불러오기\n",
        "resnet_model = ResNet50(weights='imagenet', include_top=True)\n",
        "\n",
        "# 이미지 전처리 및 예측\n",
        "PATH = './'\n",
        "FILE_NAME = '4-7-푸들.png'\n",
        "img = image.load_img(PATH + FILE_NAME, target_size=(224, 224))\n",
        "input_image = image.img_to_array(img)\n",
        "input_image = preprocess_input(input_image)\n",
        "input_image = tf.expand_dims(input_image, axis=0)\n",
        "\n",
        "predictions = resnet_model.predict(input_image)\n",
        "decoded_predictions = decode_predictions(predictions, top=3)[0]\n",
        "\n",
        "for class_id, class_name, probability in decoded_predictions:\n",
        "  print(f\"{class_name} 확률: {probability:.2f}%\")"
      ]
    },
    {
      "cell_type": "markdown",
      "metadata": {
        "id": "LfF23-KWw1Nt"
      },
      "source": [
        "이피션트넷 실습"
      ]
    },
    {
      "cell_type": "code",
      "execution_count": null,
      "metadata": {
        "id": "U7YrY1r1wHyx"
      },
      "outputs": [],
      "source": [
        "!gdown 1WI3FPChY3DFnrNEP3Fk_C61bcMxkr4-b\n"
      ]
    },
    {
      "cell_type": "code",
      "execution_count": null,
      "metadata": {
        "id": "TdgV8j_aw3Aj"
      },
      "outputs": [],
      "source": [
        "import tensorflow as tf\n",
        "from tensorflow.keras.applications import EfficientNetB0\n",
        "from tensorflow.keras.preprocessing import image\n",
        "from tensorflow.keras.applications.efficientnet import preprocess_input, decode_predictions\n",
        "\n",
        "# 이피션트넷 모델 불러오기\n",
        "efficientnet_model = EfficientNetB0(weights='imagenet', include_top=True)"
      ]
    },
    {
      "cell_type": "code",
      "execution_count": null,
      "metadata": {
        "id": "XG7__EQuw3C4"
      },
      "outputs": [],
      "source": [
        "efficientnet_model.summary()\n"
      ]
    },
    {
      "cell_type": "code",
      "execution_count": null,
      "metadata": {
        "id": "GAKmbYtow3FN"
      },
      "outputs": [],
      "source": [
        "# 이미지 전처리 및 예측\n",
        "PATH = './'\n",
        "FILE_NAME = '4-7-푸들.png'\n",
        "img = image.load_img(PATH + FILE_NAME, target_size=(224, 224))\n",
        "input_image = image.img_to_array(img)\n",
        "input_image = preprocess_input(input_image)\n",
        "input_image = tf.expand_dims(input_image, axis=0)\n",
        "\n",
        "predictions = efficientnet_model.predict(input_image)\n",
        "decoded_predictions = decode_predictions(predictions, top=3)[0]\n",
        "\n",
        "for class_id, class_name, probability in decoded_predictions:\n",
        "  print(f\"{class_name} 확률: {probability:.2f}%\")"
      ]
    },
    {
      "cell_type": "markdown",
      "metadata": {
        "id": "EVHe6jrOxCZH"
      },
      "source": [
        "비전 트랜스포머(ViT) 모델 구현 실습"
      ]
    },
    {
      "cell_type": "code",
      "execution_count": null,
      "metadata": {
        "id": "WSIXExUzxFfR"
      },
      "outputs": [],
      "source": [
        "import numpy as np\n",
        "import tensorflow as tf\n",
        "import matplotlib.pyplot as plt\n",
        "from tensorflow.keras import layers"
      ]
    },
    {
      "cell_type": "code",
      "execution_count": null,
      "metadata": {
        "id": "nKdVXTkQxFhk",
        "colab": {
          "base_uri": "https://localhost:8080/",
          "height": 192
        },
        "outputId": "cf49bbc9-a1f4-474b-9140-5e6b341a1512"
      },
      "outputs": [
        {
          "output_type": "display_data",
          "data": {
            "text/plain": [
              "<Figure size 1000x200 with 5 Axes>"
            ],
            "image/png": "[encoded data removed]"
          },
          "metadata": {}
        }
      ],
      "source": [
        "(train_x, train_y), (test_x, test_y)= tf.keras.datasets.cifar100.load_data()\n",
        "num_classes=100\n",
        "\n",
        "plt.figure(figsize=(10,2))\n",
        "for i in range(5):\n",
        "  plt.subplot(1,5,i+1)\n",
        "  plt.imshow(train_x[i])\n",
        "  plt.title(f'Label:{train_y[i][0]}')\n",
        "  plt.axis('off')\n",
        "plt.show()"
      ]
    },
    {
      "cell_type": "code",
      "execution_count": null,
      "metadata": {
        "id": "S0-252d5xFj6",
        "colab": {
          "base_uri": "https://localhost:8080/"
        },
        "outputId": "36cf7ac7-4c35-4949-95e2-997f38e77110"
      },
      "outputs": [
        {
          "output_type": "stream",
          "name": "stdout",
          "text": [
            "스케일링 전 픽셀의 최대 값과 최소 값: 0~255\n",
            "스케일링 후 픽셀의 최대 값과 최소 값:0.0~1.0\n"
          ]
        }
      ],
      "source": [
        "print(f'스케일링 전 픽셀의 최대 값과 최소 값: {train_x.min()}~{train_x.max()}')\n",
        "train_x= train_x/255.\n",
        "test_x = test_x/255.\n",
        "print(f'스케일링 후 픽셀의 최대 값과 최소 값:{train_x.min()}~{train_x.max()}')"
      ]
    },
    {
      "cell_type": "code",
      "execution_count": null,
      "metadata": {
        "id": "OXv7rBMixFmt"
      },
      "outputs": [],
      "source": [
        "#모델 파라미터 정의\n",
        "input_shape= (32,32,3)\n",
        "batch_size= 64\n",
        "\n",
        "image_size = 72\n",
        "patch_size= 6\n",
        "num_patches =(image_size // patch_size) **2\n",
        "\n",
        "learning_rate = 1e-3\n",
        "weight_decay = 1e-4\n",
        "epochs = 30\n",
        "\n",
        "transformer_layers = 4\n",
        "projection_dim = 64\n",
        "num_heads =4\n",
        "transformer_units = [projection_dim *2 , projection_dim]\n",
        "mlp_head_units = [2048,1024]"
      ]
    },
    {
      "cell_type": "code",
      "execution_count": null,
      "metadata": {
        "id": "dLP0JFkfxFqL"
      },
      "outputs": [],
      "source": [
        "##트랜스포머 인코더의 입력으로 넣어줄 이미지 조각을 만들어주는 클래스 정의\n",
        "class PatchTokenization(layers.Layer):\n",
        "    def __init__(self, image_size=image_size, patch_size=patch_size, num_patches=num_patches, projection_dim=projection_dim, **kwargs):\n",
        "        super().__init__(**kwargs)\n",
        "        self.image_size = image_size\n",
        "        self.patch_size = patch_size\n",
        "        self.half_patch = patch_size // 2\n",
        "        self.flatten_patches = layers.Reshape((num_patches, -1))\n",
        "        self.projection = layers.Dense(units=projection_dim)\n",
        "        self.layer_norm = layers.LayerNormalization(epsilon=1e-6)\n",
        "\n",
        "    def call(self, images):\n",
        "        patches = tf.image.extract_patches(\n",
        "            images=images,\n",
        "            sizes=[1, self.patch_size, self.patch_size, 1],\n",
        "            strides=[1, self.patch_size, self.patch_size, 1],\n",
        "            rates=[1, 1, 1, 1],\n",
        "            padding=\"VALID\",\n",
        "        )\n",
        "        flat_patches = self.flatten_patches(patches)\n",
        "        tokens = self.projection(flat_patches)\n",
        "        return (tokens, patches)"
      ]
    },
    {
      "cell_type": "code",
      "execution_count": null,
      "metadata": {
        "id": "puQjHjdUYD5l",
        "colab": {
          "base_uri": "https://localhost:8080/",
          "height": 402
        },
        "outputId": "f32c2040-ff7b-4164-e4c8-cd721ba0acdf"
      },
      "outputs": [
        {
          "output_type": "stream",
          "name": "stderr",
          "text": [
            "/usr/local/lib/python3.11/dist-packages/keras/src/layers/layer.py:393: UserWarning: `build()` was called on layer 'patch_tokenization_2', however the layer does not have a `build()` method implemented and it looks like it has unbuilt state. This will cause the layer to be marked as built, despite not being actually built, which may cause failures down the line. Make sure to implement a proper `build()` method.\n",
            "  warnings.warn(\n"
          ]
        },
        {
          "output_type": "display_data",
          "data": {
            "text/plain": [
              "<Figure size 400x400 with 144 Axes>"
            ],
            "image/png": "[encoded data removed]"
          },
          "metadata": {}
        }
      ],
      "source": [
        "image = train_x[np.random.choice(range(train_x.shape[0]))]\n",
        "resized_image = tf.image.resize(tf.convert_to_tensor([image]), size=(image_size, image_size))\n",
        "\n",
        "(token, patch) = PatchTokenization()(resized_image)\n",
        "(token, patch) = (token[0], patch[0])\n",
        "n = patch.shape[0]\n",
        "count = 1\n",
        "plt.figure(figsize=(4, 4))\n",
        "for row in range(n):\n",
        "    for col in range(n):\n",
        "        plt.subplot(n, n, count)\n",
        "        count = count + 1\n",
        "        image = tf.reshape(patch[row][col], (patch_size, patch_size, 3))\n",
        "        plt.imshow(image)\n",
        "        plt.axis(\"off\")\n",
        "plt.show()"
      ]
    },
    {
      "cell_type": "code",
      "execution_count": null,
      "metadata": {
        "id": "7h2IPfSkYD-B"
      },
      "outputs": [],
      "source": [
        "#패치 인코더\n",
        "class PatchEncoder(layers.Layer):\n",
        "    def __init__(self, num_patches=num_patches, projection_dim=projection_dim, **kwargs):\n",
        "        super().__init__(**kwargs)\n",
        "        self.num_patches = num_patches\n",
        "        self.position_embedding = layers.Embedding(input_dim=num_patches, output_dim=projection_dim)\n",
        "        self.positions = tf.range(start=0, limit=self.num_patches, delta=1)\n",
        "\n",
        "    def call(self, encoded_patches):\n",
        "        encoded_positions = self.position_embedding(self.positions)\n",
        "        encoded_patches = encoded_patches + encoded_positions\n",
        "        return encoded_patches"
      ]
    },
    {
      "cell_type": "code",
      "execution_count": null,
      "metadata": {
        "id": "S9SmaFHxYEAT"
      },
      "outputs": [],
      "source": [
        "#퍼셉트론 함수\n",
        "def mlp(x, hidden_units, dropout_rate):\n",
        "  for units in hidden_units:\n",
        "    x= layers.Dense(units, activation= tf.nn.relu)(x)\n",
        "    x= layers.Dropout(dropout_rate)(x)\n",
        "  return x"
      ]
    },
    {
      "cell_type": "code",
      "execution_count": null,
      "metadata": {
        "id": "cflYfinMYEC-"
      },
      "outputs": [],
      "source": [
        "def create_vit_classifier():\n",
        "    inputs = layers.Input(shape=input_shape)\n",
        "    x = layers.Normalization()(inputs)\n",
        "    x = layers.Resizing(image_size, image_size)(x)\n",
        "    (tokens, _) = PatchTokenization()(x)\n",
        "    encoded_patches = PatchEncoder()(tokens)\n",
        "    for _ in range(transformer_layers):\n",
        "        x1 = layers.LayerNormalization(epsilon=1e-6)(encoded_patches)\n",
        "        attention_output = layers.MultiHeadAttention(num_heads=num_heads, key_dim=projection_dim, dropout=0.1)(x1, x1)\n",
        "        x2 = layers.Add()([attention_output, encoded_patches])\n",
        "        x3 = layers.LayerNormalization(epsilon=1e-6)(x2)\n",
        "        x3 = mlp(x3, hidden_units=transformer_units, dropout_rate=0.1)\n",
        "        encoded_patches = layers.Add()([x3, x2])\n",
        "\n",
        "    x = layers.LayerNormalization(epsilon=1e-6)(encoded_patches)\n",
        "    x = layers.Flatten()(x)\n",
        "    x = layers.Dropout(0.5)(x)\n",
        "    x = mlp(x, hidden_units=mlp_head_units, dropout_rate=0.5)\n",
        "    outputs = layers.Dense(num_classes)(x)\n",
        "    model = tf.keras.Model(inputs=inputs, outputs=outputs)\n",
        "    return model"
      ]
    },
    {
      "cell_type": "code",
      "execution_count": null,
      "metadata": {
        "id": "NeYA0g-qbW8t"
      },
      "outputs": [],
      "source": [
        "class CosineDecay(tf.keras.optimizers.schedules.LearningRateSchedule):\n",
        "    def __init__(self, learning_rate_base, total_steps, warmup_learning_rate, warmup_steps):\n",
        "        super().__init__()\n",
        "        self.learning_rate_base = learning_rate_base\n",
        "        self.total_steps = total_steps\n",
        "        self.warmup_learning_rate = warmup_learning_rate\n",
        "        self.warmup_steps = warmup_steps\n",
        "        self.pi = tf.constant(np.pi)\n",
        "\n",
        "    def __call__(self, step):\n",
        "        if self.total_steps < self.warmup_steps:\n",
        "            raise ValueError(\"total_steps 값이 warmup_steps보다 크거나 같아야합니다.\")\n",
        "\n",
        "        cos_annealed_lr = tf.cos(self.pi * (tf.cast(step, tf.float32) - self.warmup_steps) / float(self.total_steps - self.warmup_steps))\n",
        "        learning_rate = 0.5 * self.learning_rate_base * (1 + cos_annealed_lr)\n",
        "\n",
        "        if self.warmup_steps > 0:\n",
        "            if self.learning_rate_base < self.warmup_learning_rate:\n",
        "                raise ValueError(\n",
        "                    \"learning_rate_base 값이 warmup_learning_rate보다 크거나 같아야합니다.\")\n",
        "            slope = (self.learning_rate_base - self.warmup_learning_rate) / self.warmup_steps\n",
        "            warmup_rate = slope * tf.cast(step, tf.float32) + self.warmup_learning_rate\n",
        "            learning_rate = tf.where(step < self.warmup_steps, warmup_rate, learning_rate)\n",
        "        return tf.where(step > self.total_steps, 0.0, learning_rate, name=\"learning_rate\")"
      ]
    },
    {
      "cell_type": "code",
      "execution_count": null,
      "metadata": {
        "id": "fO3wBg3MbW_y"
      },
      "outputs": [],
      "source": [
        "total_steps = int((len(train_x) / batch_size) * epochs)\n",
        "warmup_epoch_percentage = 0.10\n",
        "warmup_steps = int(total_steps * warmup_epoch_percentage)\n",
        "scheduled_lrs = CosineDecay(\n",
        "    learning_rate_base=learning_rate,\n",
        "    total_steps=total_steps,\n",
        "    warmup_learning_rate=0.0,\n",
        "    warmup_steps=warmup_steps,)"
      ]
    },
    {
      "cell_type": "code",
      "execution_count": null,
      "metadata": {
        "id": "aKQ_ScjjbXDB",
        "colab": {
          "base_uri": "https://localhost:8080/"
        },
        "outputId": "6aed9509-f228-4124-b60a-7979b53bb92b"
      },
      "outputs": [
        {
          "output_type": "stream",
          "name": "stderr",
          "text": [
            "/usr/local/lib/python3.11/dist-packages/keras/src/layers/layer.py:393: UserWarning: `build()` was called on layer 'patch_tokenization_4', however the layer does not have a `build()` method implemented and it looks like it has unbuilt state. This will cause the layer to be marked as built, despite not being actually built, which may cause failures down the line. Make sure to implement a proper `build()` method.\n",
            "  warnings.warn(\n"
          ]
        }
      ],
      "source": [
        "vit = create_vit_classifier()\n",
        "\n",
        "optimizer = tf.keras.optimizers.AdamW(\n",
        "    learning_rate=scheduled_lrs,\n",
        "    weight_decay=weight_decay)\n",
        "\n",
        "vit.compile(\n",
        "    optimizer=optimizer,\n",
        "    loss=tf.keras.losses.SparseCategoricalCrossentropy(from_logits=True),\n",
        "    metrics=[tf.keras.metrics.SparseCategoricalAccuracy(name=\"accuracy\"),\n",
        "             tf.keras.metrics.SparseTopKCategoricalAccuracy(5, name=\"top-5-accuracy\")])"
      ]
    },
    {
      "cell_type": "code",
      "execution_count": null,
      "metadata": {
        "id": "hG4LLOfHbXNe",
        "colab": {
          "base_uri": "https://localhost:8080/"
        },
        "outputId": "b8a4912d-5546-416a-80aa-76ba3d3cb279"
      },
      "outputs": [
        {
          "output_type": "stream",
          "name": "stdout",
          "text": [
            "Epoch 1/30\n",
            "\u001b[1m625/625\u001b[0m \u001b[32m━━━━━━━━━━━━━━━━━━━━\u001b[0m\u001b[37m\u001b[0m \u001b[1m1677s\u001b[0m 3s/step - accuracy: 0.0106 - loss: 5.6681 - top-5-accuracy: 0.0519 - val_accuracy: 0.0148 - val_loss: 4.6075 - val_top-5-accuracy: 0.0653\n",
            "Epoch 2/30\n",
            "\u001b[1m625/625\u001b[0m \u001b[32m━━━━━━━━━━━━━━━━━━━━\u001b[0m\u001b[37m\u001b[0m \u001b[1m1802s\u001b[0m 3s/step - accuracy: 0.0125 - loss: 4.5993 - top-5-accuracy: 0.0629 - val_accuracy: 0.0152 - val_loss: 4.5418 - val_top-5-accuracy: 0.0846\n",
            "Epoch 3/30\n",
            "\u001b[1m625/625\u001b[0m \u001b[32m━━━━━━━━━━━━━━━━━━━━\u001b[0m\u001b[37m\u001b[0m \u001b[1m1609s\u001b[0m 3s/step - accuracy: 0.0146 - loss: 4.5852 - top-5-accuracy: 0.0641 - val_accuracy: 0.0116 - val_loss: 4.5586 - val_top-5-accuracy: 0.0706\n",
            "Epoch 4/30\n",
            "\u001b[1m625/625\u001b[0m \u001b[32m━━━━━━━━━━━━━━━━━━━━\u001b[0m\u001b[37m\u001b[0m \u001b[1m1635s\u001b[0m 3s/step - accuracy: 0.0095 - loss: 4.6175 - top-5-accuracy: 0.0502 - val_accuracy: 0.0090 - val_loss: 4.6104 - val_top-5-accuracy: 0.0500\n",
            "Epoch 5/30\n",
            "\u001b[1m625/625\u001b[0m \u001b[32m━━━━━━━━━━━━━━━━━━━━\u001b[0m\u001b[37m\u001b[0m \u001b[1m1599s\u001b[0m 2s/step - accuracy: 0.0099 - loss: 4.6057 - top-5-accuracy: 0.0491 - val_accuracy: 0.0077 - val_loss: 4.6074 - val_top-5-accuracy: 0.0416\n",
            "Epoch 6/30\n",
            "\u001b[1m625/625\u001b[0m \u001b[32m━━━━━━━━━━━━━━━━━━━━\u001b[0m\u001b[37m\u001b[0m \u001b[1m1596s\u001b[0m 3s/step - accuracy: 0.0108 - loss: 4.6056 - top-5-accuracy: 0.0492 - val_accuracy: 0.0077 - val_loss: 4.6074 - val_top-5-accuracy: 0.0418\n",
            "Epoch 7/30\n",
            "\u001b[1m343/625\u001b[0m \u001b[32m━━━━━━━━━━\u001b[0m\u001b[37m━━━━━━━━━━\u001b[0m \u001b[1m10:56\u001b[0m 2s/step - accuracy: 0.0094 - loss: 4.6049 - top-5-accuracy: 0.0524"
          ]
        }
      ],
      "source": [
        "history= vit.fit(\n",
        "    x=train_x,\n",
        "    y= train_y,\n",
        "    batch_size= batch_size,\n",
        "    epochs= epochs,\n",
        "    validation_split=0.2\n",
        ")"
      ]
    },
    {
      "cell_type": "code",
      "execution_count": null,
      "metadata": {
        "id": "vmnvYPU0bq8h"
      },
      "outputs": [],
      "source": [
        "plt.figure(figsize=(14, 5))\n",
        "\n",
        "plt.subplot(1, 3, 1)\n",
        "plt.plot(history.history['loss'], label='Training Loss')\n",
        "plt.plot(history.history['val_loss'], label='Validation Loss')\n",
        "plt.title('Training and Validation Loss')\n",
        "plt.xlabel('Epoch')\n",
        "plt.ylabel('Loss')\n",
        "plt.legend()\n",
        "\n",
        "plt.subplot(1, 3, 2)\n",
        "plt.plot(history.history['accuracy'], label='Training Accuracy')\n",
        "plt.plot(history.history['val_accuracy'], label='Validation Accuracy')\n",
        "plt.title('Training and Validation Accuracy')\n",
        "plt.xlabel('Epoch')\n",
        "plt.ylabel('Accuracy')\n",
        "plt.ylim(0, 1)\n",
        "plt.legend()\n",
        "\n",
        "plt.subplot(1, 3, 3)\n",
        "plt.plot(history.history['top-5-accuracy'], label='Training Top-5 Accuracy')\n",
        "plt.plot(history.history['val_top-5-accuracy'], label='Validation Top-5 Accuracy')\n",
        "plt.title('Training and Validation Top-5 Accuracy')\n",
        "plt.xlabel('Epoch')\n",
        "plt.ylabel('Top-5 Accuracy')\n",
        "plt.ylim(0, 1)\n",
        "plt.legend()\n",
        "plt.show()"
      ]
    },
    {
      "cell_type": "code",
      "execution_count": null,
      "metadata": {
        "id": "EwGYUAvSbrBq"
      },
      "outputs": [],
      "source": [
        "vit.evaluate(test_x, test_y)\n"
      ]
    },
    {
      "cell_type": "markdown",
      "source": [
        "swin transformer\n"
      ],
      "metadata": {
        "id": "VKrY0NSesR-r"
      }
    },
    {
      "cell_type": "code",
      "source": [
        "!pip insatll tfswin"
      ],
      "metadata": {
        "id": "dxEGH89JsWCX"
      },
      "execution_count": null,
      "outputs": []
    },
    {
      "cell_type": "code",
      "source": [
        "import tensorflow as tf\n",
        "from tensorflow.keras import layers, models\n",
        "from tfswin import SwinTransformerTiny224, preprocess_input\n",
        "import matplotlib.pyplot as plt"
      ],
      "metadata": {
        "id": "RnneQRzzsWEy"
      },
      "execution_count": null,
      "outputs": []
    },
    {
      "cell_type": "code",
      "source": [
        "(train_x, train_y),(test_x, test_y) = tf.keras.datasets.cifar100.load_data()\n",
        "num_classes =100"
      ],
      "metadata": {
        "id": "tsjOx1MasWHW"
      },
      "execution_count": null,
      "outputs": []
    },
    {
      "cell_type": "code",
      "source": [
        "inputs = layers.Input(shape=(32,32,3), dtype='uint8')\n",
        "outputs= layers.Lambda(preprocess_input)(inputs)\n",
        "outputs = SwinTransformerTiny224(include_top=False)(outputs)\n",
        "outputs= layers.Dense(num_classes, activation='softmax')(outputs)\n",
        "\n",
        "swin = models.Model(inputs=inputs, outputs=ouputs)"
      ],
      "metadata": {
        "id": "17XqkodNsx5t"
      },
      "execution_count": null,
      "outputs": []
    },
    {
      "cell_type": "code",
      "source": [
        "optimizer = tf.keras.optimizers,AdamW()\n",
        "\n",
        "swin.compile(\n",
        "    optimizer= optimizier,\n",
        "    loss='sparse_categorical_crossentropy',\n",
        "    metrics=[tf.keras.metrics.SparseTopKCategoricalAccuracy(1, name='accuracy'),\n",
        "             tf.keras.metrics.SparseTopKCategoricalAccuracy(5, name='top-5-accuracy')]\n",
        ")"
      ],
      "metadata": {
        "id": "mTK5NQ_Vsx8b"
      },
      "execution_count": null,
      "outputs": []
    },
    {
      "cell_type": "code",
      "source": [
        "history= swin.fit(x=train_x, y=train_y, batch_size=128, epochs=10, validation_split=0.2)"
      ],
      "metadata": {
        "id": "oFA2dIqosx_d"
      },
      "execution_count": null,
      "outputs": []
    },
    {
      "cell_type": "code",
      "source": [
        "plt.figure(figsize=(14, 5))\n",
        "\n",
        "plt.subplot(1, 3, 1)\n",
        "plt.plot(history.history['loss'], label='Training Loss')\n",
        "plt.plot(history.history['val_loss'], label='Validation Loss')\n",
        "plt.title('Training and Validation Loss')\n",
        "plt.xlabel('Epoch')\n",
        "plt.ylabel('Loss')\n",
        "plt.legend()\n",
        "\n",
        "plt.subplot(1, 3, 2)\n",
        "plt.plot(history.history['accuracy'], label='Training Accuracy')\n",
        "plt.plot(history.history['val_accuracy'], label='Validation Accuracy')\n",
        "plt.title('Training and Validation Accuracy')\n",
        "plt.xlabel('Epoch')\n",
        "plt.ylabel('Accuracy')\n",
        "plt.legend()\n",
        "\n",
        "plt.subplot(1, 3, 3)\n",
        "plt.plot(history.history['top-5-accuracy'], label='Training Top-5 Accuracy')\n",
        "plt.plot(history.history['val_top-5-accuracy'], label='Validation Top-5 Accuracy')\n",
        "plt.title('Training and Validation Top-5 Accuracy')\n",
        "plt.xlabel('Epoch')\n",
        "plt.ylabel('Top-5 Accuracy')\n",
        "plt.ylim(0, 1)\n",
        "plt.legend()\n",
        "plt.show()"
      ],
      "metadata": {
        "id": "_F4h0_I1t98C"
      },
      "execution_count": null,
      "outputs": []
    },
    {
      "cell_type": "code",
      "source": [
        "swin.evaluate(test_x, test_y)\n"
      ],
      "metadata": {
        "id": "tjcfyqfAt-Au"
      },
      "execution_count": null,
      "outputs": []
    },
    {
      "cell_type": "markdown",
      "metadata": {
        "id": "451M54ITqUDV"
      },
      "source": [
        "# 5장. 객체 탐지\n"
      ]
    },
    {
      "cell_type": "markdown",
      "metadata": {
        "id": "ofgg-Yy4qgkl"
      },
      "source": [
        "### 텐서플로를 활용한 Faster R-CNN 실습"
      ]
    },
    {
      "cell_type": "code",
      "execution_count": null,
      "metadata": {
        "id": "R1zNQ-X3qOjc"
      },
      "outputs": [],
      "source": [
        "!git clone --depth 1 https://github.com/tensorflow/models\n"
      ]
    },
    {
      "cell_type": "code",
      "execution_count": null,
      "metadata": {
        "id": "vaXMvtjIqX8g"
      },
      "outputs": [],
      "source": [
        "%%bash\n",
        "sudo apt install -y protobuf-compiler\n",
        "cd models/research/\n",
        "protoc object_detection/protos/*.proto --python_out=.\n",
        "cp object_detection/packages/tf2/setup.py .\n",
        "python -m pip install ."
      ]
    },
    {
      "cell_type": "code",
      "execution_count": null,
      "metadata": {
        "id": "I7fAIVDArZZF"
      },
      "outputs": [],
      "source": [
        "pip install protobuf==3.20.*\n"
      ]
    },
    {
      "cell_type": "code",
      "execution_count": null,
      "metadata": {
        "id": "hJebp6bwqX_G"
      },
      "outputs": [],
      "source": [
        "from object_detection.utils import label_map_util\n",
        "from object_detection.utils import visualization_utils as viz_utils\n",
        "from object_detection.utils import ops as utils_ops\n",
        "import cv2\n",
        "import numpy as np\n",
        "import matplotlib.pyplot as plt\n",
        "import tensorflow as tf\n",
        "import tensorflow_hub as hub\n",
        "%matplotlib inline"
      ]
    },
    {
      "cell_type": "code",
      "execution_count": null,
      "metadata": {
        "id": "ZiunDMKIqYBt"
      },
      "outputs": [],
      "source": [
        "PATH_TO_LABELS = './models/research/object_detection/data/mscoco_label_map.pbtxt'\n",
        "category_index = label_map_util.create_category_index_from_labelmap(PATH_TO_LABELS, use_display_name=True)\n",
        "hub_model = hub.load('https://tfhub.dev/tensorflow/faster_rcnn/resnet50_v1_640x640/1')"
      ]
    },
    {
      "cell_type": "code",
      "execution_count": null,
      "metadata": {
        "id": "x2sOa9BoqYEb"
      },
      "outputs": [],
      "source": [
        "!wget https://raw.githubusercontent.com/Lilcob/test_colab/main/three%20young%20man.jpg\n",
        "image_path = '/content/three young man.jpg'\n",
        "image = cv2.imread(image_path)\n",
        "image = cv2.cvtColor(image, cv2.COLOR_BGR2RGB)\n",
        "image_np = np.array([image])"
      ]
    },
    {
      "cell_type": "code",
      "execution_count": null,
      "metadata": {
        "id": "ZM4L34B6sDma"
      },
      "outputs": [],
      "source": [
        "results = hub_model(image_np)\n",
        "result = {key: value.numpy() for key, value in results.items()}\n",
        "print(result.keys())\n",
        "\n",
        "label_id_offset = 0\n",
        "image_np_with_detections = image_np.copy()"
      ]
    },
    {
      "cell_type": "code",
      "execution_count": null,
      "metadata": {
        "id": "YYgqBhE-qYHS"
      },
      "outputs": [],
      "source": [
        "viz_utils.visualize_boxes_and_labels_on_image_array(\n",
        "    image_np_with_detections[0],result['detection_boxes'][0],\n",
        "(result['detection_classes'][0] + label_id_offset).astype(int),\n",
        " result['detection_scores'][0],category_index,use_normalized_coordinates=True, max_boxes_to_draw=200,min_score_thresh=.30,\n",
        "agnostic_mode=False)\n",
        "plt.figure(figsize=(12, 12))\n",
        "plt.imshow(image_np_with_detections[0])\n",
        "plt.show()\n"
      ]
    }
  ],
  "metadata": {
    "colab": {
      "provenance": []
    },
    "kernelspec": {
      "display_name": "Python 3",
      "name": "python3"
    },
    "language_info": {
      "name": "python"
    }
  },
  "nbformat": 4,
  "nbformat_minor": 0
}